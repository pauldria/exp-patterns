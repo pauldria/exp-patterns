{
 "cells": [
  {
   "cell_type": "markdown",
   "id": "890da7de-540a-4c9d-bfd3-52b4721eb9da",
   "metadata": {},
   "source": [
    "# Experiment Pattern 0 - Simple A/A\n",
    "\n",
    "This is the first and simplest experiment pattern, demonstrating a successful experiment that does nothing (is an A/A) and furthermore does not demonstrate any analysis capabilities.\n",
    "\n",
    "In addition, each visitor only shows up once, and there are no repeat visitors. "
   ]
  },
  {
   "cell_type": "code",
   "execution_count": 2,
   "id": "0fc780ac-56d1-49fa-b6fa-6e535dc2c0d8",
   "metadata": {},
   "outputs": [],
   "source": [
    "from   datetime import datetime\n",
    "from   growthbook import GrowthBook\n",
    "import itertools\n",
    "import pandas as pd\n",
    "from scipy import stats"
   ]
  },
  {
   "cell_type": "markdown",
   "id": "112c324b-ad96-4ce4-8745-fa781baaa6b1",
   "metadata": {},
   "source": [
    "We utilize three main datasets:\n",
    "* The `visit_log` covers the basics of each visit that occurs.\n",
    "* The `exposure_log` covers the logging of when an explicit **exposure** occurs.\n",
    "* The `metrics_log` covers the measurement of what happens as the users visit."
   ]
  },
  {
   "cell_type": "code",
   "execution_count": 3,
   "id": "5804d80c-fd64-46ed-b837-dadbcb5e5122",
   "metadata": {},
   "outputs": [],
   "source": [
    "visit_log    = []\n",
    "exposure_log = []\n",
    "metrics_log  = []\n",
    "\n",
    "def add_to_visit_log(user_id):\n",
    "  visit_log.append((user_id, datetime.now()))\n",
    "\n",
    "def add_to_exposure_log(user_id, variant_name):\n",
    "  exposure_log.append((user_id, variant_name, datetime.now()))"
   ]
  },
  {
   "cell_type": "markdown",
   "id": "8e957b84-6bf4-4d86-bbc1-9f238985e96a",
   "metadata": {},
   "source": [
    "This is fairly boilerplate code that covers the core usage of [GrowthBook](https://growthbook.io)."
   ]
  },
  {
   "cell_type": "code",
   "execution_count": 4,
   "id": "cfb52846-e628-4407-b135-4a7fc8d5e141",
   "metadata": {},
   "outputs": [],
   "source": [
    "def on_experiment_viewed(experiment, result):\n",
    "  add_to_exposure_log(result.hashValue, result.name)\n",
    "\n",
    "gb = GrowthBook(\n",
    "  api_host = \"https://cdn.growthbook.io\",\n",
    "  client_key = \"sdk-dznJ5SXyna94Omdi\",\n",
    "  on_experiment_viewed = on_experiment_viewed\n",
    ")\n",
    "\n",
    "gb.load_features()"
   ]
  },
  {
   "cell_type": "markdown",
   "id": "2f21b0a0-dab0-48be-b5ac-175a236cb401",
   "metadata": {},
   "source": [
    "This is our simulation code. "
   ]
  },
  {
   "cell_type": "code",
   "execution_count": 5,
   "id": "666613a8-b307-4dea-bde2-3d2e05d8376f",
   "metadata": {},
   "outputs": [],
   "source": [
    "def simulate_visit(user_id, **kwargs):\n",
    "  gb.set_attributes({\n",
    "    \"id\": user_id\n",
    "  })\n",
    "\n",
    "  feature_variant_1 = None\n",
    "\n",
    "  add_to_visit_log(user_id)\n",
    "    \n",
    "  if gb.is_on(\"variant-1\"):\n",
    "    feature_variant_1 = True\n",
    "  else:\n",
    "    feature_variant_1 = False \n",
    "\n",
    "def experiment_000_basic_aa(n_trials):\n",
    "  for i in range(n_trials):\n",
    "    simulate_visit(f\"user_{i}\")"
   ]
  },
  {
   "cell_type": "code",
   "execution_count": 7,
   "id": "9534f017-1459-4d22-9fe6-be2eaab383a1",
   "metadata": {},
   "outputs": [],
   "source": [
    "experiment_000_basic_aa(100000)"
   ]
  },
  {
   "cell_type": "markdown",
   "id": "232bb8ab-7e08-4060-b5c8-4a405df496eb",
   "metadata": {},
   "source": [
    "## Our Main Insight - Balance Check\n",
    "\n",
    "One of the most important health checks of an experiment is the **Sample Ratio Mismatch** check, which checks that the observed balance of your experiment matches the configured balance of your experiment. \n",
    "\n",
    "This is a classic use-case for the [Chi-Squared Test](https://en.wikipedia.org/wiki/Pearson%27s_chi-squared_test)."
   ]
  },
  {
   "cell_type": "code",
   "execution_count": 14,
   "id": "718c66ee-d799-4b39-9de2-77a4e3408e9e",
   "metadata": {},
   "outputs": [],
   "source": [
    "def balance_check(df, variant_percentages):\n",
    "    df_agg = df.groupby(\"variant_name\").agg(\n",
    "        user_count = pd.NamedAgg(column = \"user_id\", aggfunc = \"nunique\")).reset_index()\n",
    "    df_agg[\"variant_percentage\"] = [variant_percentages[x] for x in df_agg[\"variant_name\"]]\n",
    "    \n",
    "    \n",
    "    \n",
    "    pairwise_checks = []\n",
    "    for pair in itertools.combinations(df_agg[\"variant_name\"], 2):\n",
    "        df_tmp = df_agg[(df_agg[\"variant_name\"] == pair[0]) | (df_agg[\"variant_name\"] == pair[1])]\n",
    "        \n",
    "        total_user_count         = df_tmp[\"user_count\"].sum()\n",
    "        total_variant_percentage = df_tmp[\"variant_percentage\"].sum()\n",
    "        df_tmp[\"expected_count\"] = [total_user_count * x / total_variant_percentage for x in df_tmp[\"variant_percentage\"]]\n",
    "        \n",
    "        chisq_results = stats.chisquare(f_obs = df_tmp[\"user_count\"], f_exp = df_tmp[\"expected_count\"])\n",
    "        pairwise_checks.append((pair[0], pair[1], chisq_results.pvalue, \"PASS\" if chisq_results.pvalue > 0.05 else \"FAIL\"))\n",
    "\n",
    "    return(pd.DataFrame(data = pairwise_checks, columns = (\"variant_name_1\", \"variant_name_2\", \"p_value\", \"pass_fail\")))"
   ]
  },
  {
   "cell_type": "code",
   "execution_count": 15,
   "id": "e52aacdc-bb14-4f40-b230-52923c37cb90",
   "metadata": {},
   "outputs": [
    {
     "data": {
      "text/html": [
       "<div>\n",
       "<style scoped>\n",
       "    .dataframe tbody tr th:only-of-type {\n",
       "        vertical-align: middle;\n",
       "    }\n",
       "\n",
       "    .dataframe tbody tr th {\n",
       "        vertical-align: top;\n",
       "    }\n",
       "\n",
       "    .dataframe thead th {\n",
       "        text-align: right;\n",
       "    }\n",
       "</style>\n",
       "<table border=\"1\" class=\"dataframe\">\n",
       "  <thead>\n",
       "    <tr style=\"text-align: right;\">\n",
       "      <th></th>\n",
       "      <th>variant_name_1</th>\n",
       "      <th>variant_name_2</th>\n",
       "      <th>p_value</th>\n",
       "      <th>pass_fail</th>\n",
       "    </tr>\n",
       "  </thead>\n",
       "  <tbody>\n",
       "    <tr>\n",
       "      <th>0</th>\n",
       "      <td>Control</td>\n",
       "      <td>Variation 1</td>\n",
       "      <td>0.815904</td>\n",
       "      <td>PASS</td>\n",
       "    </tr>\n",
       "  </tbody>\n",
       "</table>\n",
       "</div>"
      ],
      "text/plain": [
       "  variant_name_1 variant_name_2   p_value pass_fail\n",
       "0        Control    Variation 1  0.815904      PASS"
      ]
     },
     "execution_count": 15,
     "metadata": {},
     "output_type": "execute_result"
    }
   ],
   "source": [
    "df_exposure_log = pd.DataFrame(data = exposure_log, columns = (\"user_id\", \"variant_name\", \"exposure_timestamp\"))\n",
    "balance_check(df_exposure_log, {\"Control\": 0.1, \"Variation 1\": 0.1})"
   ]
  },
  {
   "cell_type": "code",
   "execution_count": null,
   "id": "432ab252-ad87-4735-8a38-f61e87b4b58d",
   "metadata": {},
   "outputs": [],
   "source": []
  }
 ],
 "metadata": {
  "kernelspec": {
   "display_name": "Python 3 (ipykernel)",
   "language": "python",
   "name": "python3"
  },
  "language_info": {
   "codemirror_mode": {
    "name": "ipython",
    "version": 3
   },
   "file_extension": ".py",
   "mimetype": "text/x-python",
   "name": "python",
   "nbconvert_exporter": "python",
   "pygments_lexer": "ipython3",
   "version": "3.11.2"
  }
 },
 "nbformat": 4,
 "nbformat_minor": 5
}
